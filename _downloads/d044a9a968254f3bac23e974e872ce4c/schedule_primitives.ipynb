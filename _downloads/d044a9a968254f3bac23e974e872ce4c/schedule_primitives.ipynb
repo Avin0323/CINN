{
  "cells": [
    {
      "cell_type": "code",
      "execution_count": null,
      "metadata": {
        "collapsed": false
      },
      "outputs": [],
      "source": [
        "%matplotlib inline"
      ]
    },
    {
      "cell_type": "markdown",
      "metadata": {},
      "source": [
        "\n# Schedule Primitives in CINN\n\nIn this tutorial, we will guide you through the examples of using schedule primitives.\n\n"
      ]
    },
    {
      "cell_type": "code",
      "execution_count": null,
      "metadata": {
        "collapsed": false
      },
      "outputs": [],
      "source": [
        "import cinn\nimport numpy as np"
      ]
    },
    {
      "cell_type": "markdown",
      "metadata": {},
      "source": [
        "declare some variables for latter use\nExpr is short for expression.\n\n"
      ]
    },
    {
      "cell_type": "code",
      "execution_count": null,
      "metadata": {
        "collapsed": false
      },
      "outputs": [],
      "source": [
        "m = cinn.Expr(32)\nn = cinn.Expr(8)\n\nprint(m, n)\n# get the integer contained in an integer expression\nprint(m.int())"
      ]
    },
    {
      "cell_type": "markdown",
      "metadata": {},
      "source": [
        "A schedule can be created from a list of Tensors.\n\n"
      ]
    },
    {
      "cell_type": "code",
      "execution_count": null,
      "metadata": {
        "collapsed": false
      },
      "outputs": [],
      "source": [
        "# declare an elementwise multiply\nA = cinn.Placeholder('float32', 'A', (m, n))\nB = cinn.Placeholder('float32', 'B', (m, n))\nC = cinn.compute((m, n), lambda v: A(v[0], v[1]) * B(v[0], v[1]), name='C')\n\n# create the stages for further schedule\nstages = cinn.create_stages([C])\n\n# lower will transform the computation to real code\nfn = cinn.lower(\"fn\", stages, [A.to_tensor(), B.to_tensor(), C])\nprint(fn)"
      ]
    },
    {
      "cell_type": "markdown",
      "metadata": {},
      "source": [
        "One schedule is composed by multiple stages. We provide several\nmethods to schedule each stage.\n\n"
      ]
    },
    {
      "cell_type": "markdown",
      "metadata": {},
      "source": [
        "## split\n:code:`split` can partition a specific axis into two axises by :code: `factor`.\n\n"
      ]
    },
    {
      "cell_type": "code",
      "execution_count": null,
      "metadata": {
        "collapsed": false
      },
      "outputs": [],
      "source": [
        "A = cinn.Placeholder('float32', 'A', (m, ))\nB = cinn.compute((m, ), lambda v: A(v[0]) * 2., name='B')\n\nstages = cinn.create_stages([B])\ni0, i1 = stages[B].split(level=0, factor=4)\nfn = cinn.lower(\"fn\", stages, [A.to_tensor(), B])\nprint(fn)"
      ]
    },
    {
      "cell_type": "markdown",
      "metadata": {},
      "source": [
        "## tile\n:code:`tile` can partition two adjacent axises into blocks.\n\n"
      ]
    },
    {
      "cell_type": "code",
      "execution_count": null,
      "metadata": {
        "collapsed": false
      },
      "outputs": [],
      "source": [
        "A = cinn.Placeholder('float32', 'A', (m, n))\nB = cinn.Placeholder('float32', 'B', (m, n))\nC = cinn.compute((m, n), lambda v: A(v[0], v[1]) * B(v[0], v[1]), name='C')\n\nstages = cinn.create_stages([C])\n\ni, j = stages[C].axis(0), stages[C].axis(1)\ni_outer, i_inner, j_inner, j_outer = stages[C].tile(i, j, 4, 4)\nfn = cinn.lower(\"fn\", stages, [A.to_tensor(), B.to_tensor(), C])\nprint(fn)"
      ]
    },
    {
      "cell_type": "markdown",
      "metadata": {},
      "source": [
        "## reorder\n:code:`reorder` can reorder the axises in the specified order.\n\n"
      ]
    },
    {
      "cell_type": "code",
      "execution_count": null,
      "metadata": {
        "collapsed": false
      },
      "outputs": [],
      "source": [
        "A = cinn.Placeholder('float32', 'A', (m, n))\nB = cinn.Placeholder('float32', 'B', (m, n))\nC = cinn.compute((m, n), lambda v: A(v[0], v[1]) * B(v[0], v[1]), name='C')\n\nstages = cinn.create_stages([C])\ni0, i1 = stages[C].axis(0), stages[C].axis(1)\nstages[C].reorder([i1, i0])\n\nfn = cinn.lower(\"fn\", stages, [A.to_tensor(), B.to_tensor(), C])\nprint(fn)"
      ]
    },
    {
      "cell_type": "markdown",
      "metadata": {},
      "source": [
        "## unroll\n:code:`unroll` unroll a specific axis.\n\n"
      ]
    },
    {
      "cell_type": "code",
      "execution_count": null,
      "metadata": {
        "collapsed": false
      },
      "outputs": [],
      "source": [
        "A = cinn.Placeholder('float32', 'A', (m, n))\nB = cinn.Placeholder('float32', 'B', (m, n))\nC = cinn.compute((m, n), lambda v: A(v[0], v[1]) * B(v[0], v[1]), name='C')\n\nstages = cinn.create_stages([C])\ni1 = stages[C].axis(1)\nstages[C].unroll(i1)\n\nfn = cinn.lower(\"fn\", stages, [A.to_tensor(), B.to_tensor(), C])\nprint(fn)"
      ]
    },
    {
      "cell_type": "markdown",
      "metadata": {},
      "source": [
        "## compute_inline\n:code:`compute_inline` marks a stage as inline, then the computation\nbody will be expanded and inserted at the location where the tensor\nis referenced.\n\n"
      ]
    },
    {
      "cell_type": "code",
      "execution_count": null,
      "metadata": {
        "collapsed": false
      },
      "outputs": [],
      "source": [
        "A = cinn.Placeholder('float32', 'A', (m, n))\nB = cinn.Placeholder('float32', 'B', (m, n))\nC = cinn.compute((m, n), lambda v: A(v[0], v[1]) * B(v[0], v[1]), name='C')\n\n# C1[i,j] = C[i,j] + B[i,j]\nC1 = cinn.compute([m, n], lambda v: C(v[0], v[1]) + B(v[0], v[1]), \"C1\")\n# C2[i,j] = C1[i,j] + B[i,j]\nC2 = cinn.compute([m, n], lambda v: C1(v[0], v[1]) + B(v[0], v[1]), \"C2\")\n\nstages = cinn.create_stages([C, C1, C2])\n\nstages[C].compute_inline()\nstages[C1].compute_inline()\n\nfn = cinn.lower(\"fn\", stages, [A.to_tensor(), B.to_tensor(), C2])\nprint(fn)"
      ]
    },
    {
      "cell_type": "markdown",
      "metadata": {},
      "source": [
        "## bind\n:code:`bind` can bind a specified axis with a thread axis.\n\n"
      ]
    },
    {
      "cell_type": "code",
      "execution_count": null,
      "metadata": {
        "collapsed": false
      },
      "outputs": [],
      "source": [
        "A = cinn.Placeholder('float32', 'A', (m, n))\nB = cinn.Placeholder('float32', 'B', (m, n))\nC = cinn.compute((m, n), lambda v: A(v[0], v[1]) * B(v[0], v[1]), name='C')\n\nstages = cinn.create_stages([C])\nstages[C].bind(0, \"blockIdx.x\")\nstages[C].bind(1, \"threadIdx.x\")\n\nfn = cinn.lower(\"fn\", stages, [A.to_tensor(), B.to_tensor(), C])\nprint(fn)"
      ]
    }
  ],
  "metadata": {
    "kernelspec": {
      "display_name": "Python 3",
      "language": "python",
      "name": "python3"
    },
    "language_info": {
      "codemirror_mode": {
        "name": "ipython",
        "version": 3
      },
      "file_extension": ".py",
      "mimetype": "text/x-python",
      "name": "python",
      "nbconvert_exporter": "python",
      "pygments_lexer": "ipython3",
      "version": "3.6.9"
    }
  },
  "nbformat": 4,
  "nbformat_minor": 0
}